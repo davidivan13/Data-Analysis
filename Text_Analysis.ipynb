{
  "nbformat": 4,
  "nbformat_minor": 0,
  "metadata": {
    "colab": {
      "provenance": [],
      "authorship_tag": "ABX9TyNGC2glE2BBpDUTWaR46mDS",
      "include_colab_link": true
    },
    "kernelspec": {
      "name": "python3",
      "display_name": "Python 3"
    },
    "language_info": {
      "name": "python"
    }
  },
  "cells": [
    {
      "cell_type": "markdown",
      "metadata": {
        "id": "view-in-github",
        "colab_type": "text"
      },
      "source": [
        "<a href=\"https://colab.research.google.com/github/davidivan13/Data-Analysis/blob/main/Text_Analysis.ipynb\" target=\"_parent\"><img src=\"https://colab.research.google.com/assets/colab-badge.svg\" alt=\"Open In Colab\"/></a>"
      ]
    },
    {
      "cell_type": "code",
      "execution_count": 1,
      "metadata": {
        "colab": {
          "base_uri": "https://localhost:8080/"
        },
        "id": "5cieJeyVCEoz",
        "outputId": "56f67983-2249-421b-dd0a-38718cc83705"
      },
      "outputs": [
        {
          "output_type": "execute_result",
          "data": {
            "text/plain": [
              "<re.Match object; span=(0, 5), match='Andri'>"
            ]
          },
          "metadata": {},
          "execution_count": 1
        }
      ],
      "source": [
        "import re\n",
        "re.match(r'\\b\\w{5}\\b', 'Andri and Fatia')"
      ]
    },
    {
      "cell_type": "code",
      "source": [
        "re.search(r'\\b\\w{5}\\b', 'Andri and Fatia')"
      ],
      "metadata": {
        "colab": {
          "base_uri": "https://localhost:8080/"
        },
        "id": "AnoI5OFPCWuf",
        "outputId": "03d55887-8464-4b49-a50e-4f0426ffb225"
      },
      "execution_count": 2,
      "outputs": [
        {
          "output_type": "execute_result",
          "data": {
            "text/plain": [
              "<re.Match object; span=(0, 5), match='Andri'>"
            ]
          },
          "metadata": {},
          "execution_count": 2
        }
      ]
    },
    {
      "cell_type": "code",
      "source": [
        "re.findall(r'\\b\\w{5}\\b', 'Andri and Fatia')"
      ],
      "metadata": {
        "colab": {
          "base_uri": "https://localhost:8080/"
        },
        "id": "mwjqbipiCWx6",
        "outputId": "3dd4cfb7-f6d7-4e6f-e78e-30bf3f1bec35"
      },
      "execution_count": 3,
      "outputs": [
        {
          "output_type": "execute_result",
          "data": {
            "text/plain": [
              "['Andri', 'Fatia']"
            ]
          },
          "metadata": {},
          "execution_count": 3
        }
      ]
    },
    {
      "cell_type": "code",
      "source": [
        "s = \"User's mobile number is 123456789\"\n",
        "s_hide = re.sub('\\d', '*', s)\n",
        "print(s_hide)"
      ],
      "metadata": {
        "colab": {
          "base_uri": "https://localhost:8080/"
        },
        "id": "eE895hXMCW0T",
        "outputId": "f45b1816-3f88-4966-f252-4da905cdf318"
      },
      "execution_count": 4,
      "outputs": [
        {
          "output_type": "stream",
          "name": "stdout",
          "text": [
            "User's mobile number is *********\n"
          ]
        }
      ]
    },
    {
      "cell_type": "code",
      "source": [
        "user_name = input(\"Please enter your name: \")\n",
        "\n",
        "while not re.match(\"^[A-Za-z]+$\", user_name):\n",
        "  print(\"Error! Make sure you only use letters in your name\")\n",
        "  user_name = input(\"Please enter your name: \")\n",
        "print(\"Hello! \"+ user_name)"
      ],
      "metadata": {
        "colab": {
          "base_uri": "https://localhost:8080/"
        },
        "id": "iKx5p1ZfCW2S",
        "outputId": "552cfb2e-dd05-4e76-9466-cf9e76816bf4"
      },
      "execution_count": 5,
      "outputs": [
        {
          "output_type": "stream",
          "name": "stdout",
          "text": [
            "Please enter your name: asd\n",
            "Hello! asd\n"
          ]
        }
      ]
    },
    {
      "cell_type": "code",
      "source": [
        "pip install fuzzywuzzy"
      ],
      "metadata": {
        "colab": {
          "base_uri": "https://localhost:8080/"
        },
        "id": "7PgA0ZcICW7p",
        "outputId": "ef8bebd8-fe1a-45cb-d674-443ab6056d24"
      },
      "execution_count": 6,
      "outputs": [
        {
          "output_type": "stream",
          "name": "stdout",
          "text": [
            "Collecting fuzzywuzzy\n",
            "  Downloading fuzzywuzzy-0.18.0-py2.py3-none-any.whl.metadata (4.9 kB)\n",
            "Downloading fuzzywuzzy-0.18.0-py2.py3-none-any.whl (18 kB)\n",
            "Installing collected packages: fuzzywuzzy\n",
            "Successfully installed fuzzywuzzy-0.18.0\n"
          ]
        }
      ]
    },
    {
      "cell_type": "code",
      "source": [
        "from fuzzywuzzy import fuzz\n",
        "#Mencari kesamaan antara dua teks\n",
        "text1 = \"The quick brown fox jumps over the lazy dog\"\n",
        "text2 = \"The quick brown fox jumps over the lazy dog.\"\n",
        "\n",
        "similarity = fuzz.ratio(text1, text2)\n",
        "print(similarity)"
      ],
      "metadata": {
        "colab": {
          "base_uri": "https://localhost:8080/"
        },
        "id": "CHjXOMCAC5c0",
        "outputId": "ac6490f6-3f56-41f5-e98e-c948b5f74ae8"
      },
      "execution_count": 7,
      "outputs": [
        {
          "output_type": "stream",
          "name": "stdout",
          "text": [
            "99\n"
          ]
        },
        {
          "output_type": "stream",
          "name": "stderr",
          "text": [
            "/usr/local/lib/python3.11/dist-packages/fuzzywuzzy/fuzz.py:11: UserWarning: Using slow pure-python SequenceMatcher. Install python-Levenshtein to remove this warning\n",
            "  warnings.warn('Using slow pure-python SequenceMatcher. Install python-Levenshtein to remove this warning')\n"
          ]
        }
      ]
    },
    {
      "cell_type": "code",
      "source": [
        "similarity = fuzz.partial_ratio(text1, text2)\n",
        "print(similarity)"
      ],
      "metadata": {
        "colab": {
          "base_uri": "https://localhost:8080/"
        },
        "id": "28lcBgz4C5kn",
        "outputId": "d018658a-3038-4516-c53e-8bee959cc022"
      },
      "execution_count": 8,
      "outputs": [
        {
          "output_type": "stream",
          "name": "stdout",
          "text": [
            "100\n"
          ]
        }
      ]
    },
    {
      "cell_type": "code",
      "source": [
        "text1 = \"Ali is my name\"\n",
        "text2 = \"My name is Ali\"\n",
        "\n",
        "print(fuzz.token_sort_ratio(text1, text2))"
      ],
      "metadata": {
        "colab": {
          "base_uri": "https://localhost:8080/"
        },
        "id": "Za4zr7FDC5n1",
        "outputId": "a492ee30-5b10-4f07-8eca-8c1668fa026c"
      },
      "execution_count": 9,
      "outputs": [
        {
          "output_type": "stream",
          "name": "stdout",
          "text": [
            "100\n"
          ]
        }
      ]
    },
    {
      "cell_type": "code",
      "source": [
        "text1 = \"Ali is my name\"\n",
        "text2 = \"My name is Ali Ali\"\n",
        "\n",
        "print(fuzz.token_sort_ratio(text1, text2))\n",
        "\n",
        "print(fuzz.token_set_ratio(text1, text2))"
      ],
      "metadata": {
        "colab": {
          "base_uri": "https://localhost:8080/"
        },
        "id": "oxi5QRU5C5q8",
        "outputId": "425df265-3b1d-43de-c993-5a34e617be34"
      },
      "execution_count": 10,
      "outputs": [
        {
          "output_type": "stream",
          "name": "stdout",
          "text": [
            "88\n",
            "100\n"
          ]
        }
      ]
    },
    {
      "cell_type": "code",
      "source": [
        "from fuzzywuzzy import process\n",
        "query = \"My name is Ali\"\n",
        "choices = [\"My name Ali\", \"My name is Ali\",\n",
        "            \"My Ali\"]\n",
        "process.extract(query,choices)"
      ],
      "metadata": {
        "colab": {
          "base_uri": "https://localhost:8080/"
        },
        "id": "O55fJZNKC513",
        "outputId": "5435b4ae-57d9-48c4-aeca-bb8d56d8449f"
      },
      "execution_count": 11,
      "outputs": [
        {
          "output_type": "execute_result",
          "data": {
            "text/plain": [
              "[('My name is Ali', 100), ('My name Ali', 95), ('My Ali', 86)]"
            ]
          },
          "metadata": {},
          "execution_count": 11
        }
      ]
    },
    {
      "cell_type": "code",
      "source": [
        "import pandas as pd\n",
        "#Creating dataframe\n",
        "data_1 = {\n",
        "  \"country\": [\"England\", \"Scotland\", \"Wales\", \"United Kingdom\", \"Northern Ireland\"],\n",
        "  \"GDP_per_capita\": [55.98, 5.45, 3.14, 67.33, 1.89]\n",
        "}\n",
        "\n",
        "data_2 = {\n",
        "  \"country\": [\"Northern Iland\", \"Englnd\", \"Wles\", \"Scotlnd\", \"United K.\"],\n",
        "  \"GDP_per_capita\": [24900, 23882, 37460, 45101, 46510.20]\n",
        "}\n",
        "existing_data = pd.DataFrame(data_1)\n",
        "exported_data = pd.DataFrame(data_2)\n",
        "\n",
        "print(existing_data, exported_data, sep=\"\\n\\n\")"
      ],
      "metadata": {
        "colab": {
          "base_uri": "https://localhost:8080/"
        },
        "id": "3De0E6bgDwZm",
        "outputId": "993c15f2-203c-4653-aebc-4f7cc926f520"
      },
      "execution_count": 12,
      "outputs": [
        {
          "output_type": "stream",
          "name": "stdout",
          "text": [
            "            country  GDP_per_capita\n",
            "0           England           55.98\n",
            "1          Scotland            5.45\n",
            "2             Wales            3.14\n",
            "3    United Kingdom           67.33\n",
            "4  Northern Ireland            1.89\n",
            "\n",
            "          country  GDP_per_capita\n",
            "0  Northern Iland         24900.0\n",
            "1          Englnd         23882.0\n",
            "2            Wles         37460.0\n",
            "3         Scotlnd         45101.0\n",
            "4       United K.         46510.2\n"
          ]
        }
      ]
    },
    {
      "cell_type": "code",
      "source": [
        "data = pd.merge(existing_data, exported_data, on=\"country\", how=\"left\")\n",
        "print(data.head())"
      ],
      "metadata": {
        "colab": {
          "base_uri": "https://localhost:8080/"
        },
        "id": "a8LwM2LMDwf4",
        "outputId": "9cc87590-ec86-4f3e-f43d-a9fa524bbdc6"
      },
      "execution_count": 13,
      "outputs": [
        {
          "output_type": "stream",
          "name": "stdout",
          "text": [
            "            country  GDP_per_capita_x  GDP_per_capita_y\n",
            "0           England             55.98               NaN\n",
            "1          Scotland              5.45               NaN\n",
            "2             Wales              3.14               NaN\n",
            "3    United Kingdom             67.33               NaN\n",
            "4  Northern Ireland              1.89               NaN\n"
          ]
        }
      ]
    },
    {
      "cell_type": "code",
      "source": [
        "# Rename misspelled columns\n",
        "exported_data[\"country\"] = exported_data[\"country\"].apply(\n",
        "    lambda x: process.extractOne(x, existing_data[\"country\"], scorer=fuzz.partial_ratio)[0]\n",
        ")\n",
        "\n",
        "# Attempt to join the two dataframes\n",
        "data = pd.merge(existing_data, exported_data, on=\"country\", how=\"left\")\n",
        "print(data.head())"
      ],
      "metadata": {
        "colab": {
          "base_uri": "https://localhost:8080/"
        },
        "id": "jSbyE56NDwiz",
        "outputId": "e0ba48a5-7095-4767-de9c-25343359f236"
      },
      "execution_count": 14,
      "outputs": [
        {
          "output_type": "stream",
          "name": "stdout",
          "text": [
            "            country  GDP_per_capita_x  GDP_per_capita_y\n",
            "0           England             55.98           23882.0\n",
            "1          Scotland              5.45           45101.0\n",
            "2             Wales              3.14           37460.0\n",
            "3    United Kingdom             67.33           46510.2\n",
            "4  Northern Ireland              1.89           24900.0\n"
          ]
        }
      ]
    },
    {
      "cell_type": "code",
      "source": [
        "from textblob import TextBlob\n",
        "\n",
        "text_1 = \"The movie was so awesome.\"\n",
        "text_2 = \"The food here tastes terrible.\"\n",
        "\n",
        "#Determining the Polarity\n",
        "p_1 = TextBlob(text_1).sentiment.polarity\n",
        "p_2 = TextBlob(text_2).sentiment.polarity\n",
        "\n",
        "#Determining the subjectivity\n",
        "s_1 = TextBlob(text_1).sentiment.subjectivity\n",
        "s_2 = TextBlob(text_2).sentiment.subjectivity\n",
        "\n",
        "print(\"Polarity of Text 1 is\", p_1)\n",
        "print(\"Polarity of Text 2 is\", p_2)\n",
        "print(\"Subjectivity of Text 1 is\", s_1)\n",
        "print(\"Subjectivity of Text 2 is\", s_2)"
      ],
      "metadata": {
        "colab": {
          "base_uri": "https://localhost:8080/"
        },
        "id": "FR8DGR1ID8s2",
        "outputId": "8d391d8f-ba70-45f3-c3a7-fde7f4e79c61"
      },
      "execution_count": 15,
      "outputs": [
        {
          "output_type": "stream",
          "name": "stdout",
          "text": [
            "Polarity of Text 1 is 1.0\n",
            "Polarity of Text 2 is -1.0\n",
            "Subjectivity of Text 1 is 1.0\n",
            "Subjectivity of Text 2 is 1.0\n"
          ]
        }
      ]
    },
    {
      "cell_type": "code",
      "source": [
        "pip install vaderSentiment"
      ],
      "metadata": {
        "colab": {
          "base_uri": "https://localhost:8080/"
        },
        "id": "WeMWlfQED80x",
        "outputId": "5638d20c-899f-402b-bc3f-cde9b43e2282"
      },
      "execution_count": 16,
      "outputs": [
        {
          "output_type": "stream",
          "name": "stdout",
          "text": [
            "Collecting vaderSentiment\n",
            "  Downloading vaderSentiment-3.3.2-py2.py3-none-any.whl.metadata (572 bytes)\n",
            "Requirement already satisfied: requests in /usr/local/lib/python3.11/dist-packages (from vaderSentiment) (2.32.3)\n",
            "Requirement already satisfied: charset-normalizer<4,>=2 in /usr/local/lib/python3.11/dist-packages (from requests->vaderSentiment) (3.4.2)\n",
            "Requirement already satisfied: idna<4,>=2.5 in /usr/local/lib/python3.11/dist-packages (from requests->vaderSentiment) (3.10)\n",
            "Requirement already satisfied: urllib3<3,>=1.21.1 in /usr/local/lib/python3.11/dist-packages (from requests->vaderSentiment) (2.4.0)\n",
            "Requirement already satisfied: certifi>=2017.4.17 in /usr/local/lib/python3.11/dist-packages (from requests->vaderSentiment) (2025.6.15)\n",
            "Downloading vaderSentiment-3.3.2-py2.py3-none-any.whl (125 kB)\n",
            "\u001b[2K   \u001b[90m━━━━━━━━━━━━━━━━━━━━━━━━━━━━━━━━━━━━━━━━\u001b[0m \u001b[32m126.0/126.0 kB\u001b[0m \u001b[31m4.0 MB/s\u001b[0m eta \u001b[36m0:00:00\u001b[0m\n",
            "\u001b[?25hInstalling collected packages: vaderSentiment\n",
            "Successfully installed vaderSentiment-3.3.2\n"
          ]
        }
      ]
    },
    {
      "cell_type": "code",
      "source": [
        "from vaderSentiment.vaderSentiment import SentimentIntensityAnalyzer\n",
        "sentiment = SentimentIntensityAnalyzer()\n",
        "text_1 = \"The book was a perfect balance between writting style and plot.\"\n",
        "text_2 = \"The pizza tastes terrible.\"\n",
        "sent_1 = sentiment.polarity_scores(text_1)\n",
        "sent_2 = sentiment.polarity_scores(text_2)\n",
        "\n",
        "print(\"Sentiment of Text 1:\", sent_1)\n",
        "print(\"Sentiment of Text 2:\", sent_2)"
      ],
      "metadata": {
        "colab": {
          "base_uri": "https://localhost:8080/"
        },
        "id": "0sb0QwgeItp5",
        "outputId": "7844beb7-859b-4f8b-f502-18c5d133b4f6"
      },
      "execution_count": 17,
      "outputs": [
        {
          "output_type": "stream",
          "name": "stdout",
          "text": [
            "Sentiment of Text 1: {'neg': 0.0, 'neu': 0.73, 'pos': 0.27, 'compound': 0.5719}\n",
            "Sentiment of Text 2: {'neg': 0.508, 'neu': 0.492, 'pos': 0.0, 'compound': -0.4767}\n"
          ]
        }
      ]
    },
    {
      "cell_type": "code",
      "source": [
        "import spacy\n",
        "from spacy import displacy\n",
        "\n",
        "NER = spacy.load(\"en_core_web_sm\")\n",
        "raw_text_1 = \"Mars is the fourth planet from the Sun, and the seventh largest. It’s the only planet we know of inhabited entirely by robots.\"\n",
        "raw_text_2 = \"Indonesia is the world's largest archipelagic state and the 14th-largest country by area, at 1,904,569 square kilometres (735,358 square miles).\"\n",
        "\n",
        "text1 = NER(raw_text_1)\n",
        "text2 = NER(raw_text_2)"
      ],
      "metadata": {
        "id": "LxTAZat-ItsW"
      },
      "execution_count": 18,
      "outputs": []
    },
    {
      "cell_type": "code",
      "source": [
        "for word in text1.ents:\n",
        "  print(word.text, word.label_)"
      ],
      "metadata": {
        "colab": {
          "base_uri": "https://localhost:8080/"
        },
        "id": "x8XoztafItum",
        "outputId": "dea6119f-6f3d-47bb-b7d4-f0f03038bb5e"
      },
      "execution_count": 19,
      "outputs": [
        {
          "output_type": "stream",
          "name": "stdout",
          "text": [
            "Mars LOC\n",
            "fourth ORDINAL\n",
            "Sun ORG\n",
            "seventh ORDINAL\n"
          ]
        }
      ]
    },
    {
      "cell_type": "code",
      "source": [
        "for word in text2.ents:\n",
        "  print(word.text, word.label_)"
      ],
      "metadata": {
        "colab": {
          "base_uri": "https://localhost:8080/"
        },
        "id": "kpi05AeuD83c",
        "outputId": "fb941e3c-dacd-4597-e37c-b6ac8ac87a1c"
      },
      "execution_count": 20,
      "outputs": [
        {
          "output_type": "stream",
          "name": "stdout",
          "text": [
            "Indonesia GPE\n",
            "14th ORDINAL\n",
            "1,904,569 square kilometres QUANTITY\n",
            "735,358 square miles QUANTITY\n"
          ]
        }
      ]
    },
    {
      "cell_type": "code",
      "source": [
        "displacy.render(text1, style=\"ent\", jupyter=True)"
      ],
      "metadata": {
        "colab": {
          "base_uri": "https://localhost:8080/",
          "height": 52
        },
        "id": "NivE6sALI7TD",
        "outputId": "bc464c4c-f39f-4954-d5d7-249d310988c1"
      },
      "execution_count": 21,
      "outputs": [
        {
          "output_type": "display_data",
          "data": {
            "text/plain": [
              "<IPython.core.display.HTML object>"
            ],
            "text/html": [
              "<span class=\"tex2jax_ignore\"><div class=\"entities\" style=\"line-height: 2.5; direction: ltr\">\n",
              "<mark class=\"entity\" style=\"background: #ff9561; padding: 0.45em 0.6em; margin: 0 0.25em; line-height: 1; border-radius: 0.35em;\">\n",
              "    Mars\n",
              "    <span style=\"font-size: 0.8em; font-weight: bold; line-height: 1; border-radius: 0.35em; vertical-align: middle; margin-left: 0.5rem\">LOC</span>\n",
              "</mark>\n",
              " is the \n",
              "<mark class=\"entity\" style=\"background: #e4e7d2; padding: 0.45em 0.6em; margin: 0 0.25em; line-height: 1; border-radius: 0.35em;\">\n",
              "    fourth\n",
              "    <span style=\"font-size: 0.8em; font-weight: bold; line-height: 1; border-radius: 0.35em; vertical-align: middle; margin-left: 0.5rem\">ORDINAL</span>\n",
              "</mark>\n",
              " planet from the \n",
              "<mark class=\"entity\" style=\"background: #7aecec; padding: 0.45em 0.6em; margin: 0 0.25em; line-height: 1; border-radius: 0.35em;\">\n",
              "    Sun\n",
              "    <span style=\"font-size: 0.8em; font-weight: bold; line-height: 1; border-radius: 0.35em; vertical-align: middle; margin-left: 0.5rem\">ORG</span>\n",
              "</mark>\n",
              ", and the \n",
              "<mark class=\"entity\" style=\"background: #e4e7d2; padding: 0.45em 0.6em; margin: 0 0.25em; line-height: 1; border-radius: 0.35em;\">\n",
              "    seventh\n",
              "    <span style=\"font-size: 0.8em; font-weight: bold; line-height: 1; border-radius: 0.35em; vertical-align: middle; margin-left: 0.5rem\">ORDINAL</span>\n",
              "</mark>\n",
              " largest. It’s the only planet we know of inhabited entirely by robots.</div></span>"
            ]
          },
          "metadata": {}
        }
      ]
    }
  ]
}